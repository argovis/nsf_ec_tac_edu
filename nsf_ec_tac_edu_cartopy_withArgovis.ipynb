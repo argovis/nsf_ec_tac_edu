{
 "cells": [
  {
   "cell_type": "markdown",
   "id": "7da487f5",
   "metadata": {},
   "source": [
    "# Import statements"
   ]
  },
  {
   "cell_type": "code",
   "execution_count": 1,
   "id": "2d7ed98c",
   "metadata": {},
   "outputs": [],
   "source": [
    "#data processing\n",
    "import requests\n",
    "import numpy as np\n",
    "import pandas as pd\n",
    "from datetime import datetime, timedelta, date\n",
    "\n",
    "#import xarray as xr\n",
    "import os\n",
    "import time\n",
    "\n",
    "#data visualization\n",
    "%matplotlib inline\n",
    "import matplotlib.pylab as plt\n",
    "from matplotlib import ticker\n",
    "%matplotlib inline\n",
    "\n",
    "#used for map projections\n",
    "import cartopy.crs as ccrs\n",
    "import cartopy.feature as cft\n",
    "from cartopy.mpl.gridliner import LONGITUDE_FORMATTER, LATITUDE_FORMATTER\n",
    "\n",
    "import warnings\n",
    "warnings.filterwarnings('ignore')"
   ]
  },
  {
   "cell_type": "markdown",
   "id": "2db3b723",
   "metadata": {},
   "source": [
    "# Function to check the response JSON from an API query"
   ]
  },
  {
   "cell_type": "code",
   "execution_count": 2,
   "id": "f0e1651d",
   "metadata": {},
   "outputs": [],
   "source": [
    "def check_error_message(ans,writeFlag=False):\n",
    "    # ans: response JSON from an API query\n",
    "    # writeFlag: bool, true == print verbose errors, if found\n",
    "    # returns error code if found, or NaN if not.\n",
    "    if isinstance(ans,dict) and 'message' in ans.keys() and 'code' in ans.keys():\n",
    "        if writeFlag:\n",
    "            print(str(ans['code']) + ': ' + ans['message'])\n",
    "        ##### NOTE: we should include here below all the codes that do not return data as the user expects\n",
    "        if ans['code'] >= 400 and ans['code'] != 404:\n",
    "            print('Data were not returned')\n",
    "            print(ans)\n",
    "            raise Exception('No data')\n",
    "        return ans['code']        \n",
    "    elif ans:\n",
    "        return np.nan"
   ]
  },
  {
   "cell_type": "markdown",
   "id": "831af58e",
   "metadata": {},
   "source": [
    "# Parameter definition"
   ]
  },
  {
   "cell_type": "code",
   "execution_count": 3,
   "id": "82c92520",
   "metadata": {},
   "outputs": [],
   "source": [
    "### NO NEED TO EDIT THIS CELL for NSF EC TAC educational modules\n",
    "#\n",
    "# prefix to use with all API queries\n",
    "URL_PREFIX = 'https://argovis-api-atoc-argovis-dev.apps.containers02.colorado.edu'\n",
    "# users that have an API key would use it in their code (no need to do so here)\n",
    "API_KEY   = ''"
   ]
  },
  {
   "cell_type": "markdown",
   "id": "bd16944f",
   "metadata": {},
   "source": [
    "Let's declare some space-time variables we'll use to filter our search results by in the following examples. Dates are encoded as ISO 8601 UTC datestrings, and polygons are defined as lists of [lon, lat] pairs; to construct a polygon interactively: \n",
    " - visit argovis.colorado.edu\n",
    " - draw a shape\n",
    " - click on the purple shaded area of the region of interest (not on a dot)\n",
    " - from the pop up window, go \"to Selection page\"\n",
    " - from the url of the selection shape, copy the shape, i.e. [copy_all_this_inside_outer_brackets] after 'shape='"
   ]
  },
  {
   "cell_type": "code",
   "execution_count": 4,
   "id": "5517b913",
   "metadata": {},
   "outputs": [],
   "source": [
    "startDate = '2018-05-29T00:00:00Z'\n",
    "endDate   = '2018-05-31T00:00:00Z'\n",
    "# To see what this polygon looks like, scroll over east of Africa at \n",
    "# https://argovis.colorado.edu/ng/home?mapProj=WM&presRange=%5B0,2000%5D&selectionStartDate=2018-04-27&selectionEndDate=2018-04-28&threeDayEndDate=2022-04-05T03:45:47&shapes=%5B%5B%5B25.106205,61.096076%5D,%5B10.054482,51.933279%5D,%5B9.236052,60.37706%5D,%5B8.221804,68.777189%5D,%5B7.034482,77.130969%5D,%5B19.816425,71.404221%5D,%5B25.106205,61.096076%5D%5D%5D&includeRealtime=true&onlyBGC=false&onlyDeep=false&threeDayToggle=false\n",
    "polygon = '[[61.096076,25.106205],[51.933279,10.054482],[60.37706,9.236052],[68.777189,8.221804],[77.130969,7.034482],[71.404221,19.816425],[61.096076,25.106205]]'"
   ]
  },
  {
   "cell_type": "markdown",
   "id": "66a28329",
   "metadata": {},
   "source": [
    "# Map Argo profile locations using cartopy"
   ]
  },
  {
   "cell_type": "markdown",
   "id": "338c7ea1",
   "metadata": {},
   "source": [
    "## Use the Argovis API to query Argo profile locations of interest"
   ]
  },
  {
   "cell_type": "markdown",
   "id": "ffef69b6",
   "metadata": {},
   "source": [
    "If interested in GO-SHIP data instead, use `cchdo_go-ship` as `source` in the url."
   ]
  },
  {
   "cell_type": "code",
   "execution_count": 5,
   "id": "4abfb85c",
   "metadata": {},
   "outputs": [],
   "source": [
    "# define url for the API query of profile locations in a region (polygon) and time range of interest\n",
    "url = URL_PREFIX + '/profiles?' + \\\n",
    "      '&startDate=' + startDate + \\\n",
    "      '&endDate=' + endDate + \\\n",
    "      '&polygon=' + polygon + \\\n",
    "      '&source=argo_core'\n",
    "# make the request\n",
    "d   = requests.get(url,headers={\"x-argokey\": API_KEY}).json()\n",
    "# check what the API request returned\n",
    "ans = check_error_message(ans=d,writeFlag=True)\n",
    "# if there are data, create a panda dataframe from the returned list of dictionaries\n",
    "if np.isnan(ans):\n",
    "    df = pd.DataFrame(d)"
   ]
  },
  {
   "cell_type": "markdown",
   "id": "ac2aaec3",
   "metadata": {},
   "source": [
    "## Look at the metadata and store profile locations"
   ]
  },
  {
   "cell_type": "code",
   "execution_count": 6,
   "id": "bff48af9",
   "metadata": {},
   "outputs": [
    {
     "name": "stdout",
     "output_type": "stream",
     "text": [
      "Number of profiles returned: 21\n"
     ]
    },
    {
     "data": {
      "text/html": [
       "<div>\n",
       "<style scoped>\n",
       "    .dataframe tbody tr th:only-of-type {\n",
       "        vertical-align: middle;\n",
       "    }\n",
       "\n",
       "    .dataframe tbody tr th {\n",
       "        vertical-align: top;\n",
       "    }\n",
       "\n",
       "    .dataframe thead th {\n",
       "        text-align: right;\n",
       "    }\n",
       "</style>\n",
       "<table border=\"1\" class=\"dataframe\">\n",
       "  <thead>\n",
       "    <tr style=\"text-align: right;\">\n",
       "      <th></th>\n",
       "      <th>_id</th>\n",
       "      <th>cycle_number</th>\n",
       "      <th>basin</th>\n",
       "      <th>data_type</th>\n",
       "      <th>geolocation</th>\n",
       "      <th>instrument</th>\n",
       "      <th>timestamp</th>\n",
       "      <th>date_updated_argovis</th>\n",
       "      <th>fleetmonitoring</th>\n",
       "      <th>oceanops</th>\n",
       "      <th>...</th>\n",
       "      <th>pi_name</th>\n",
       "      <th>geolocation_argoqc</th>\n",
       "      <th>timestamp_argoqc</th>\n",
       "      <th>platform_type</th>\n",
       "      <th>positioning_system</th>\n",
       "      <th>vertical_sampling_scheme</th>\n",
       "      <th>wmo_inst_type</th>\n",
       "      <th>source_info</th>\n",
       "      <th>data_keys</th>\n",
       "      <th>data_keys_mode</th>\n",
       "    </tr>\n",
       "  </thead>\n",
       "  <tbody>\n",
       "    <tr>\n",
       "      <th>0</th>\n",
       "      <td>2901853_175</td>\n",
       "      <td>175</td>\n",
       "      <td>3</td>\n",
       "      <td>oceanicProfile</td>\n",
       "      <td>{'type': 'Point', 'coordinates': [56.311, 13.4...</td>\n",
       "      <td>profiling_float</td>\n",
       "      <td>2018-05-30T18:33:58.000Z</td>\n",
       "      <td>2022-03-13T07:24:43.503Z</td>\n",
       "      <td>https://fleetmonitoring.euro-argo.eu/float/290...</td>\n",
       "      <td>https://www.ocean-ops.org/board/wa/Platform?re...</td>\n",
       "      <td>...</td>\n",
       "      <td>[Susan Wijffels]</td>\n",
       "      <td>1</td>\n",
       "      <td>1</td>\n",
       "      <td>APEX</td>\n",
       "      <td>GPS</td>\n",
       "      <td>Primary sampling: averaged []</td>\n",
       "      <td>846</td>\n",
       "      <td>[{'source': ['argo_core'], 'source_url': 'ftp:...</td>\n",
       "      <td>[pres, pres_argoqc, psal, psal_argoqc, temp, t...</td>\n",
       "      <td>{'pres': 'D', 'temp': 'D', 'psal': 'D'}</td>\n",
       "    </tr>\n",
       "    <tr>\n",
       "      <th>1</th>\n",
       "      <td>2903129_096</td>\n",
       "      <td>96</td>\n",
       "      <td>3</td>\n",
       "      <td>oceanicProfile</td>\n",
       "      <td>{'type': 'Point', 'coordinates': [65.382, 21.4...</td>\n",
       "      <td>profiling_float</td>\n",
       "      <td>2018-05-30T18:02:44.001Z</td>\n",
       "      <td>2022-03-27T18:58:47.565Z</td>\n",
       "      <td>https://fleetmonitoring.euro-argo.eu/float/290...</td>\n",
       "      <td>https://www.ocean-ops.org/board/wa/Platform?re...</td>\n",
       "      <td>...</td>\n",
       "      <td>[CARL SZCZECHOWSKI]</td>\n",
       "      <td>1</td>\n",
       "      <td>1</td>\n",
       "      <td>APEX</td>\n",
       "      <td>ARGOS</td>\n",
       "      <td>Primary sampling: discrete []</td>\n",
       "      <td>846</td>\n",
       "      <td>[{'source': ['argo_core'], 'source_url': 'ftp:...</td>\n",
       "      <td>[pres, pres_argoqc, psal, psal_argoqc, temp, t...</td>\n",
       "      <td>{'pres': 'A', 'temp': 'A', 'psal': 'A'}</td>\n",
       "    </tr>\n",
       "    <tr>\n",
       "      <th>2</th>\n",
       "      <td>2903126_207</td>\n",
       "      <td>207</td>\n",
       "      <td>3</td>\n",
       "      <td>oceanicProfile</td>\n",
       "      <td>{'type': 'Point', 'coordinates': [67.709, 9.659]}</td>\n",
       "      <td>profiling_float</td>\n",
       "      <td>2018-05-30T16:11:14.001Z</td>\n",
       "      <td>2022-03-26T16:30:11.998Z</td>\n",
       "      <td>https://fleetmonitoring.euro-argo.eu/float/290...</td>\n",
       "      <td>https://www.ocean-ops.org/board/wa/Platform?re...</td>\n",
       "      <td>...</td>\n",
       "      <td>[CARL SZCZECHOWSKI]</td>\n",
       "      <td>1</td>\n",
       "      <td>1</td>\n",
       "      <td>APEX</td>\n",
       "      <td>GPS</td>\n",
       "      <td>Primary sampling: discrete []</td>\n",
       "      <td>846</td>\n",
       "      <td>[{'source': ['argo_core'], 'source_url': 'ftp:...</td>\n",
       "      <td>[pres, pres_argoqc, psal, psal_argoqc, temp, t...</td>\n",
       "      <td>{'pres': 'A', 'temp': 'A', 'psal': 'A'}</td>\n",
       "    </tr>\n",
       "  </tbody>\n",
       "</table>\n",
       "<p>3 rows × 23 columns</p>\n",
       "</div>"
      ],
      "text/plain": [
       "           _id  cycle_number  basin       data_type  \\\n",
       "0  2901853_175           175      3  oceanicProfile   \n",
       "1  2903129_096            96      3  oceanicProfile   \n",
       "2  2903126_207           207      3  oceanicProfile   \n",
       "\n",
       "                                         geolocation       instrument  \\\n",
       "0  {'type': 'Point', 'coordinates': [56.311, 13.4...  profiling_float   \n",
       "1  {'type': 'Point', 'coordinates': [65.382, 21.4...  profiling_float   \n",
       "2  {'type': 'Point', 'coordinates': [67.709, 9.659]}  profiling_float   \n",
       "\n",
       "                  timestamp      date_updated_argovis  \\\n",
       "0  2018-05-30T18:33:58.000Z  2022-03-13T07:24:43.503Z   \n",
       "1  2018-05-30T18:02:44.001Z  2022-03-27T18:58:47.565Z   \n",
       "2  2018-05-30T16:11:14.001Z  2022-03-26T16:30:11.998Z   \n",
       "\n",
       "                                     fleetmonitoring  \\\n",
       "0  https://fleetmonitoring.euro-argo.eu/float/290...   \n",
       "1  https://fleetmonitoring.euro-argo.eu/float/290...   \n",
       "2  https://fleetmonitoring.euro-argo.eu/float/290...   \n",
       "\n",
       "                                            oceanops  ...  \\\n",
       "0  https://www.ocean-ops.org/board/wa/Platform?re...  ...   \n",
       "1  https://www.ocean-ops.org/board/wa/Platform?re...  ...   \n",
       "2  https://www.ocean-ops.org/board/wa/Platform?re...  ...   \n",
       "\n",
       "               pi_name geolocation_argoqc timestamp_argoqc platform_type  \\\n",
       "0     [Susan Wijffels]                  1                1          APEX   \n",
       "1  [CARL SZCZECHOWSKI]                  1                1          APEX   \n",
       "2  [CARL SZCZECHOWSKI]                  1                1          APEX   \n",
       "\n",
       "   positioning_system       vertical_sampling_scheme wmo_inst_type  \\\n",
       "0                 GPS  Primary sampling: averaged []           846   \n",
       "1               ARGOS  Primary sampling: discrete []           846   \n",
       "2                 GPS  Primary sampling: discrete []           846   \n",
       "\n",
       "                                         source_info  \\\n",
       "0  [{'source': ['argo_core'], 'source_url': 'ftp:...   \n",
       "1  [{'source': ['argo_core'], 'source_url': 'ftp:...   \n",
       "2  [{'source': ['argo_core'], 'source_url': 'ftp:...   \n",
       "\n",
       "                                           data_keys  \\\n",
       "0  [pres, pres_argoqc, psal, psal_argoqc, temp, t...   \n",
       "1  [pres, pres_argoqc, psal, psal_argoqc, temp, t...   \n",
       "2  [pres, pres_argoqc, psal, psal_argoqc, temp, t...   \n",
       "\n",
       "                            data_keys_mode  \n",
       "0  {'pres': 'D', 'temp': 'D', 'psal': 'D'}  \n",
       "1  {'pres': 'A', 'temp': 'A', 'psal': 'A'}  \n",
       "2  {'pres': 'A', 'temp': 'A', 'psal': 'A'}  \n",
       "\n",
       "[3 rows x 23 columns]"
      ]
     },
     "execution_count": 6,
     "metadata": {},
     "output_type": "execute_result"
    }
   ],
   "source": [
    "# let's print the number of profiles returned \n",
    "print('Number of profiles returned: ' + str(len(df)))\n",
    "# let's look at the first few items in the dateframe\n",
    "df[0:3]"
   ]
  },
  {
   "cell_type": "code",
   "execution_count": 7,
   "id": "6d3a2779",
   "metadata": {},
   "outputs": [],
   "source": [
    "# if needed, we can look at the time of measurement\n",
    "# print(df['timestamp'])"
   ]
  },
  {
   "cell_type": "code",
   "execution_count": 8,
   "id": "b58e3c9b",
   "metadata": {},
   "outputs": [],
   "source": [
    "# let's store longitude and latitude for the profiles in the dataframe\n",
    "lon = [x['coordinates'][0] for x in df['geolocation']]\n",
    "lat = [x['coordinates'][1] for x in df['geolocation']]"
   ]
  },
  {
   "cell_type": "markdown",
   "id": "be7f0d25",
   "metadata": {},
   "source": [
    "## Plot profile locations on a map using cartopy"
   ]
  },
  {
   "cell_type": "code",
   "execution_count": 9,
   "id": "1d9ce385",
   "metadata": {},
   "outputs": [
    {
     "data": {
      "image/png": "[encoded data removed]",
      "text/plain": [
       "<Figure size 432x288 with 1 Axes>"
      ]
     },
     "metadata": {
      "needs_background": "light"
     },
     "output_type": "display_data"
    }
   ],
   "source": [
    "# if there are data, plot profile locations on a map\n",
    "if np.isnan(ans):\n",
    "    #### set up the map first\n",
    "    # this declares a recentered projection for Pacific areas\n",
    "    usemap_proj = ccrs.PlateCarree(central_longitude=50)\n",
    "    usemap_proj._threshold /= 20.  # to make greatcircle smooth\n",
    "\n",
    "    ax = plt.axes(projection=usemap_proj)\n",
    "    # set appropriate extents: (lon_min, lon_max, lat_min, lat_max)\n",
    "    ax.set_extent([min(lon)-10,max(lon)+10,min(lat)-5,max(lat)+5], crs=ccrs.PlateCarree())\n",
    "\n",
    "    gl = ax.gridlines(draw_labels=True,color='black')\n",
    "    gl.xlabels_top = False\n",
    "    gl.ylabels_right = False\n",
    "    gl.xformatter = LONGITUDE_FORMATTER\n",
    "    gl.yformatter = LATITUDE_FORMATTER\n",
    "    gl.xlocator = ticker.FixedLocator(np.arange(-180,180,5))\n",
    "    gl.ylocator = ticker.FixedLocator(np.arange(-90,90,5))\n",
    "\n",
    "    gl.xlabel_style = {'size': 16}\n",
    "    gl.ylabel_style = {'size': 16}\n",
    "\n",
    "    ax.coastlines()\n",
    "    ax.add_feature(cft.LAND)#, color='lightgray'\n",
    "    ax.add_feature(cft.OCEAN)\n",
    "    ax.add_feature(cft.COASTLINE)\n",
    "    ax.add_feature(cft.BORDERS, linestyle=':')\n",
    "\n",
    "    geodetic = ccrs.Geodetic()\n",
    "    #### plot the profile locations\n",
    "    plt.plot(lon,lat,marker='o',markersize=10,color='k',linestyle='none',transform=ccrs.PlateCarree())"
   ]
  },
  {
   "cell_type": "code",
   "execution_count": null,
   "id": "e9c5e78a",
   "metadata": {},
   "outputs": [],
   "source": []
  }
 ],
 "metadata": {
  "kernelspec": {
   "display_name": "py_NSF_EC2022",
   "language": "python",
   "name": "py_nsf_ec2022"
  },
  "language_info": {
   "codemirror_mode": {
    "name": "ipython",
    "version": 3
   },
   "file_extension": ".py",
   "mimetype": "text/x-python",
   "name": "python",
   "nbconvert_exporter": "python",
   "pygments_lexer": "ipython3",
   "version": "3.8.12"
  }
 },
 "nbformat": 4,
 "nbformat_minor": 5
}
